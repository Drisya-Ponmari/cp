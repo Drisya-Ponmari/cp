{
 "cells": [
  {
   "cell_type": "code",
   "execution_count": 21,
   "metadata": {},
   "outputs": [],
   "source": [
    "class Node:\n",
    "    def __init__ (self,key):\n",
    "        self.left  = None\n",
    "        self.right = None\n",
    "        self.val = key"
   ]
  },
  {
   "cell_type": "code",
   "execution_count": 22,
   "metadata": {},
   "outputs": [],
   "source": [
    "def insert(root,node):\n",
    "    if root is None:\n",
    "        root = node\n",
    "    else:\n",
    "        if root.val< node.val:\n",
    "            if root.right == None:\n",
    "                root.right = node\n",
    "            else:\n",
    "                insert(root.right,node)\n",
    "        else:\n",
    "            if root.left == None:\n",
    "                root.left = node\n",
    "            else:\n",
    "                insert(root.left,node)"
   ]
  },
  {
   "cell_type": "code",
   "execution_count": 38,
   "metadata": {},
   "outputs": [],
   "source": [
    "def search(key,root):\n",
    "    if(key == root.val):\n",
    "        return root\n",
    "    if(key > root.val):\n",
    "        return search(key,root.right)\n",
    "    else:\n",
    "        return search(key,root.left)"
   ]
  },
  {
   "cell_type": "code",
   "execution_count": 40,
   "metadata": {},
   "outputs": [],
   "source": [
    "def preorder(start_root):\n",
    "    if(start_root == None):\n",
    "        return;\n",
    "    print(start_root.val),\n",
    "    preorder(start_root.left)\n",
    "    preorder(start_root.right)"
   ]
  },
  {
   "cell_type": "code",
   "execution_count": 42,
   "metadata": {},
   "outputs": [
    {
     "name": "stdout",
     "output_type": "stream",
     "text": [
      "4\n",
      "66 77 1 4\n",
      "1\n",
      "1 4\n"
     ]
    }
   ],
   "source": [
    "n = int(raw_input())\n",
    "v = raw_input()\n",
    "q = int(raw_input())\n",
    "v=v.split()\n",
    "r = Node(int(v[0]))\n",
    "for i in range(n-1):\n",
    "    insert(r,Node(int(v[i+1])))\n",
    "q_node=search(q,r)\n",
    "preorder(q_node)"
   ]
  },
  {
   "cell_type": "code",
   "execution_count": null,
   "metadata": {},
   "outputs": [],
   "source": []
  }
 ],
 "metadata": {
  "kernelspec": {
   "display_name": "Python 2",
   "language": "python",
   "name": "python2"
  },
  "language_info": {
   "codemirror_mode": {
    "name": "ipython",
    "version": 2
   },
   "file_extension": ".py",
   "mimetype": "text/x-python",
   "name": "python",
   "nbconvert_exporter": "python",
   "pygments_lexer": "ipython2",
   "version": "2.7.12"
  }
 },
 "nbformat": 4,
 "nbformat_minor": 2
}
