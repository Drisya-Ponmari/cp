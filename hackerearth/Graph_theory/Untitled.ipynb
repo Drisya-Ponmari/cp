{
 "cells": [
  {
   "cell_type": "code",
   "execution_count": 3,
   "metadata": {},
   "outputs": [
    {
     "name": "stdout",
     "output_type": "stream",
     "text": [
      "5 4\n",
      "1 2\n",
      "1 1 1 23 4\n",
      " 1 2 24 5\n",
      " 2 31 3\n",
      " 5\n"
     ]
    }
   ],
   "source": [
    "def get_root(a):\n",
    "    while(root[a-1] !=a):\n",
    "        a = root[a-1]\n",
    "    return a\n",
    "def union_f(a,b):\n",
    "    a=get_root(a)\n",
    "    b=get_root(b)\n",
    "    if(count[a-1] > count [b-1]):\n",
    "        count[a-1] = count[a-1] + count[b-1];\n",
    "        count[b-1] = 0\n",
    "        root[b-1] = a\n",
    "    else:\n",
    "        count[b-1] = count[b-1] + count[a-1];\n",
    "        count[a-1] = 0\n",
    "        root[a-1] = b\n",
    "n = raw_input()\n",
    "n = n.split()\n",
    "root = []\n",
    "count =[]\n",
    "for i in range(int(n[0])):\n",
    "    root.append(i+1)\n",
    "    count.append(1)\n",
    "for i in range(int(n[1])):\n",
    "    m = raw_input()\n",
    "    m = m.split()\n",
    "    union_f(int(m[0]),int(m[1]))\n",
    "    x=[]\n",
    "    for j in count:\n",
    "        if(j!=0):\n",
    "            x.append(j)\n",
    "    x=sorted(x)\n",
    "    for i in x:\n",
    "        print(i),"
   ]
  },
  {
   "cell_type": "code",
   "execution_count": 3,
   "metadata": {},
   "outputs": [
    {
     "name": "stdout",
     "output_type": "stream",
     "text": [
      "{0: -2, 1: -5}\n"
     ]
    },
    {
     "ename": "AttributeError",
     "evalue": "'dict' object has no attribute 'sort'",
     "output_type": "error",
     "traceback": [
      "\u001b[0;31m---------------------------------------------------------------------------\u001b[0m",
      "\u001b[0;31mAttributeError\u001b[0m                            Traceback (most recent call last)",
      "\u001b[0;32m<ipython-input-3-0f165bcc14db>\u001b[0m in \u001b[0;36m<module>\u001b[0;34m()\u001b[0m\n\u001b[1;32m      3\u001b[0m \u001b[0mdic\u001b[0m\u001b[0;34m[\u001b[0m\u001b[0;36m1\u001b[0m\u001b[0;34m]\u001b[0m \u001b[0;34m=\u001b[0m \u001b[0;34m-\u001b[0m\u001b[0;36m5\u001b[0m\u001b[0;34m\u001b[0m\u001b[0m\n\u001b[1;32m      4\u001b[0m \u001b[0;32mprint\u001b[0m\u001b[0;34m(\u001b[0m\u001b[0mdic\u001b[0m\u001b[0;34m)\u001b[0m\u001b[0;34m\u001b[0m\u001b[0m\n\u001b[0;32m----> 5\u001b[0;31m \u001b[0mdic\u001b[0m\u001b[0;34m.\u001b[0m\u001b[0msort\u001b[0m\u001b[0;34m(\u001b[0m\u001b[0;34m)\u001b[0m\u001b[0;34m\u001b[0m\u001b[0m\n\u001b[0m\u001b[1;32m      6\u001b[0m \u001b[0;32mprint\u001b[0m\u001b[0;34m(\u001b[0m\u001b[0mdic\u001b[0m\u001b[0;34m)\u001b[0m\u001b[0;34m\u001b[0m\u001b[0m\n",
      "\u001b[0;31mAttributeError\u001b[0m: 'dict' object has no attribute 'sort'"
     ]
    }
   ],
   "source": [
    "dic ={}\n",
    "dic[0] = -2\n",
    "dic[1] = -5\n",
    "print(dic)\n",
    "dic.sort()\n",
    "print(dic)"
   ]
  }
 ],
 "metadata": {
  "kernelspec": {
   "display_name": "Python 2",
   "language": "python",
   "name": "python2"
  },
  "language_info": {
   "codemirror_mode": {
    "name": "ipython",
    "version": 2
   },
   "file_extension": ".py",
   "mimetype": "text/x-python",
   "name": "python",
   "nbconvert_exporter": "python",
   "pygments_lexer": "ipython2",
   "version": "2.7.12"
  }
 },
 "nbformat": 4,
 "nbformat_minor": 2
}
