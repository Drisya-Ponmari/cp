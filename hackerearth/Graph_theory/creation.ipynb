{
 "cells": [
  {
   "cell_type": "code",
   "execution_count": 7,
   "metadata": {},
   "outputs": [
    {
     "name": "stdout",
     "output_type": "stream",
     "text": [
      "2 3\n",
      "1 1\n",
      "1 2\n",
      "1 3\n",
      "1\n",
      "1 1\n",
      "YES\n"
     ]
    }
   ],
   "source": [
    "s = raw_input()\n",
    "s=s.split()\n",
    "graph={}\n",
    "for i in range(int(s[1])):\n",
    "    ed = raw_input()\n",
    "    ed = ed.split()\n",
    "    if ed[0] in graph:\n",
    "        graph[ed[0]].append(ed[1])\n",
    "    else:\n",
    "        graph[ed[0]] = [ed[1]]\n",
    "\n",
    "q = int(raw_input())\n",
    "for i in range(q):\n",
    "    ed = raw_input()\n",
    "    ed = ed.split()\n",
    "    \n",
    "    if ed[1] in graph[ed[0]]:\n",
    "        print(\"YES\")\n",
    "    else:\n",
    "        print(\"NO\")"
   ]
  }
 ],
 "metadata": {
  "kernelspec": {
   "display_name": "Python 2",
   "language": "python",
   "name": "python2"
  },
  "language_info": {
   "codemirror_mode": {
    "name": "ipython",
    "version": 2
   },
   "file_extension": ".py",
   "mimetype": "text/x-python",
   "name": "python",
   "nbconvert_exporter": "python",
   "pygments_lexer": "ipython2",
   "version": "2.7.12"
  }
 },
 "nbformat": 4,
 "nbformat_minor": 2
}
