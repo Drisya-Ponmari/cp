{
 "cells": [
  {
   "cell_type": "code",
   "execution_count": 4,
   "metadata": {},
   "outputs": [
    {
     "name": "stdout",
     "output_type": "stream",
     "text": [
      "1\n",
      "5\n",
      "1 2\n",
      "1 3\n",
      "2 4\n",
      "2 5\n",
      "2 6 4 3 5\n",
      "2\n",
      "1 2\n",
      "12\n",
      "2 2\n",
      "6\n"
     ]
    }
   ],
   "source": [
    "# cook your dish here\n",
    "t = int(input())\n",
    "#print(t)\n",
    "i = 0\n",
    "while(i<t):\n",
    "    n = int(input())\n",
    "    #print(n)\n",
    "    d ={}\n",
    "    for i in range(n):\n",
    "        b = i+1\n",
    "        d[b] = []\n",
    "    for i in range(n-1):\n",
    "        k = input().split()\n",
    "        x = int(k[0])\n",
    "        y = int(k[1])\n",
    "        d[x].append(y)\n",
    "        d[y].append(x)\n",
    "    \n",
    "    x = input().split()\n",
    "    a=[]\n",
    "    for i in range(n):\n",
    "        a.append(int(x[i]))\n",
    "    #print(a)\n",
    "    #print(d)\n",
    "    q = int(input())\n",
    "    j=0\n",
    "    while(j<q):\n",
    "        x = input().split()\n",
    "        u = int(x[0])\n",
    "        v = int(x[1])\n",
    "        flag =0\n",
    "        visited = [False] * n\n",
    "        product = 1\n",
    "        queue = []\n",
    "        queue.append(u)\n",
    "        visited[u-1] = True\n",
    "        while queue:\n",
    "            s = queue.pop(0)\n",
    "            product = product * a[s-1]\n",
    "            print(product)\n",
    "            if(s == v):\n",
    "                break\n",
    "            for i in d[s]:\n",
    "                if visited[i-1] == False:\n",
    "                    queue.append(i)\n",
    "                    visited[i] = True\n",
    "                    if(i == v):\n",
    "                        flag = 1\n",
    "                        product = product * a[v-1]\n",
    "                        print(product)\n",
    "                        break\n",
    "                    if(flag == 1):\n",
    "                        break\n",
    "                if (flag == 1):\n",
    "                    break\n",
    "            if (flag == 1):\n",
    "                break\n",
    "        print(product)\n",
    "        j = j + 1\n",
    "        \n",
    "    \n",
    "    i = i+1\n",
    "        "
   ]
  }
 ],
 "metadata": {
  "kernelspec": {
   "display_name": "Python 3",
   "language": "python",
   "name": "python3"
  },
  "language_info": {
   "codemirror_mode": {
    "name": "ipython",
    "version": 3
   },
   "file_extension": ".py",
   "mimetype": "text/x-python",
   "name": "python",
   "nbconvert_exporter": "python",
   "pygments_lexer": "ipython3",
   "version": "3.7.4"
  }
 },
 "nbformat": 4,
 "nbformat_minor": 2
}
